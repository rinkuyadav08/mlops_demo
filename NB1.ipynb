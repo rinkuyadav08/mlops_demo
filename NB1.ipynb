{
 "cells": [
  {
   "cell_type": "code",
   "execution_count": 1,
   "id": "63632da4-2109-4b5c-bdd5-36878da688b7",
   "metadata": {},
   "outputs": [
    {
     "name": "stdout",
     "output_type": "stream",
     "text": [
      "Requirement already satisfied: cookiecutter in c:\\users\\rinku\\.conda\\envs\\mlopsdemo\\lib\\site-packages (1.7.3)\n",
      "Requirement already satisfied: click>=7.0 in c:\\users\\rinku\\.conda\\envs\\mlopsdemo\\lib\\site-packages (from cookiecutter) (8.0.3)\n",
      "Requirement already satisfied: six>=1.10 in c:\\users\\rinku\\.conda\\envs\\mlopsdemo\\lib\\site-packages (from cookiecutter) (1.16.0)\n",
      "Requirement already satisfied: Jinja2<4.0.0,>=2.7 in c:\\users\\rinku\\.conda\\envs\\mlopsdemo\\lib\\site-packages (from cookiecutter) (3.0.3)\n",
      "Requirement already satisfied: requests>=2.23.0 in c:\\users\\rinku\\.conda\\envs\\mlopsdemo\\lib\\site-packages (from cookiecutter) (2.27.1)\n",
      "Requirement already satisfied: poyo>=0.5.0 in c:\\users\\rinku\\.conda\\envs\\mlopsdemo\\lib\\site-packages (from cookiecutter) (0.5.0)\n",
      "Requirement already satisfied: jinja2-time>=0.2.0 in c:\\users\\rinku\\.conda\\envs\\mlopsdemo\\lib\\site-packages (from cookiecutter) (0.2.0)\n",
      "Requirement already satisfied: python-slugify>=4.0.0 in c:\\users\\rinku\\.conda\\envs\\mlopsdemo\\lib\\site-packages (from cookiecutter) (5.0.2)\n",
      "Requirement already satisfied: binaryornot>=0.4.4 in c:\\users\\rinku\\.conda\\envs\\mlopsdemo\\lib\\site-packages (from cookiecutter) (0.4.4)\n",
      "Requirement already satisfied: chardet>=3.0.2 in c:\\users\\rinku\\.conda\\envs\\mlopsdemo\\lib\\site-packages (from binaryornot>=0.4.4->cookiecutter) (4.0.0)\n",
      "Requirement already satisfied: importlib-metadata in c:\\users\\rinku\\.conda\\envs\\mlopsdemo\\lib\\site-packages (from click>=7.0->cookiecutter) (4.11.0)\n",
      "Requirement already satisfied: colorama in c:\\users\\rinku\\.conda\\envs\\mlopsdemo\\lib\\site-packages (from click>=7.0->cookiecutter) (0.4.4)\n",
      "Requirement already satisfied: MarkupSafe>=2.0 in c:\\users\\rinku\\.conda\\envs\\mlopsdemo\\lib\\site-packages (from Jinja2<4.0.0,>=2.7->cookiecutter) (2.0.1)\n",
      "Requirement already satisfied: arrow in c:\\users\\rinku\\.conda\\envs\\mlopsdemo\\lib\\site-packages (from jinja2-time>=0.2.0->cookiecutter) (1.2.2)\n",
      "Requirement already satisfied: text-unidecode>=1.3 in c:\\users\\rinku\\.conda\\envs\\mlopsdemo\\lib\\site-packages (from python-slugify>=4.0.0->cookiecutter) (1.3)\n",
      "Requirement already satisfied: certifi>=2017.4.17 in c:\\users\\rinku\\.conda\\envs\\mlopsdemo\\lib\\site-packages (from requests>=2.23.0->cookiecutter) (2021.10.8)\n",
      "Requirement already satisfied: charset-normalizer~=2.0.0 in c:\\users\\rinku\\.conda\\envs\\mlopsdemo\\lib\\site-packages (from requests>=2.23.0->cookiecutter) (2.0.12)\n",
      "Requirement already satisfied: urllib3<1.27,>=1.21.1 in c:\\users\\rinku\\.conda\\envs\\mlopsdemo\\lib\\site-packages (from requests>=2.23.0->cookiecutter) (1.26.8)\n",
      "Requirement already satisfied: idna<4,>=2.5 in c:\\users\\rinku\\.conda\\envs\\mlopsdemo\\lib\\site-packages (from requests>=2.23.0->cookiecutter) (3.3)\n",
      "Requirement already satisfied: typing-extensions in c:\\users\\rinku\\.conda\\envs\\mlopsdemo\\lib\\site-packages (from arrow->jinja2-time>=0.2.0->cookiecutter) (4.1.1)\n",
      "Requirement already satisfied: python-dateutil>=2.7.0 in c:\\users\\rinku\\.conda\\envs\\mlopsdemo\\lib\\site-packages (from arrow->jinja2-time>=0.2.0->cookiecutter) (2.8.2)\n",
      "Requirement already satisfied: zipp>=0.5 in c:\\users\\rinku\\.conda\\envs\\mlopsdemo\\lib\\site-packages (from importlib-metadata->click>=7.0->cookiecutter) (3.7.0)\n"
     ]
    }
   ],
   "source": [
    "!pip install cookiecutter"
   ]
  },
  {
   "cell_type": "code",
   "execution_count": null,
   "id": "0ea1b3ba-26dd-4475-81c6-f55641c861f1",
   "metadata": {},
   "outputs": [],
   "source": [
    "# NOTE: For windows user-\n",
    "# This file must be created in the root of the project \n",
    "# where Training and Prediction batch file as are present\n",
    "\n",
    "import os\n",
    "from glob import glob\n",
    "\n",
    "\n",
    "data_dirs = [\"Training_Batch_Files\",\"Prediction_Batch_files\"]\n",
    "\n",
    "for data_dir in data_dirs:\n",
    "    files = glob(data_dir + r\"/*.csv\")\n",
    "    for filePath in files:\n",
    "        # print(f\"dvc add {filePath}\")\n",
    "        os.system(f\"dvc add {filePath}\")\n",
    "\n",
    "print(\"\\n #### all files added to dvc ####\")"
   ]
  },
  {
   "cell_type": "code",
   "execution_count": null,
   "id": "e6118557-1166-4e2e-a208-0582d8df17e0",
   "metadata": {},
   "outputs": [],
   "source": []
  }
 ],
 "metadata": {
  "kernelspec": {
   "display_name": "Python 3 (ipykernel)",
   "language": "python",
   "name": "python3"
  },
  "language_info": {
   "codemirror_mode": {
    "name": "ipython",
    "version": 3
   },
   "file_extension": ".py",
   "mimetype": "text/x-python",
   "name": "python",
   "nbconvert_exporter": "python",
   "pygments_lexer": "ipython3",
   "version": "3.7.0"
  }
 },
 "nbformat": 4,
 "nbformat_minor": 5
}
